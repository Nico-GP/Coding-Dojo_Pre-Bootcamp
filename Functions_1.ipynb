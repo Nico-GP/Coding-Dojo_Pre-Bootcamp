{
  "nbformat": 4,
  "nbformat_minor": 0,
  "metadata": {
    "colab": {
      "name": "Functions_1",
      "provenance": [],
      "authorship_tag": "ABX9TyO1wo/GDBD20HYDX4tlX8mO",
      "include_colab_link": true
    },
    "kernelspec": {
      "name": "python3",
      "display_name": "Python 3"
    },
    "language_info": {
      "name": "python"
    }
  },
  "cells": [
    {
      "cell_type": "markdown",
      "metadata": {
        "id": "view-in-github",
        "colab_type": "text"
      },
      "source": [
        "<a href=\"https://colab.research.google.com/github/Nico-GP/Coding-Dojo_Pre-Bootcamp/blob/main/Functions_1.ipynb\" target=\"_parent\"><img src=\"https://colab.research.google.com/assets/colab-badge.svg\" alt=\"Open In Colab\"/></a>"
      ]
    },
    {
      "cell_type": "markdown",
      "source": [
        "# **CODING DOJO**: Pre-Bootcamp\n",
        "## Creado por: Nicolas Gonzalez\n",
        "### Descripcion: Funciones 1\n",
        "* Creado: 03/12/21\n",
        "* Ultima Actualizacion: 03/12/21"
      ],
      "metadata": {
        "id": "ef7UpcCnsw48"
      }
    },
    {
      "cell_type": "markdown",
      "source": [
        "1. Imprimir: 5"
      ],
      "metadata": {
        "id": "3pBn1VVxyg73"
      }
    },
    {
      "cell_type": "code",
      "source": [
        "def a():\n",
        "    return 5\n",
        "print(a())"
      ],
      "metadata": {
        "colab": {
          "base_uri": "https://localhost:8080/"
        },
        "id": "hm2A0l4Zx2s9",
        "outputId": "ba97abfd-5ae1-4e8d-f077-e3f6e1630ba6"
      },
      "execution_count": 16,
      "outputs": [
        {
          "output_type": "stream",
          "name": "stdout",
          "text": [
            "5\n"
          ]
        }
      ]
    },
    {
      "cell_type": "markdown",
      "source": [
        "2. Imprimir: 10"
      ],
      "metadata": {
        "id": "qmKkwkBvynDK"
      }
    },
    {
      "cell_type": "code",
      "source": [
        "def a():\n",
        "    return 5\n",
        "print(a()+a())"
      ],
      "metadata": {
        "colab": {
          "base_uri": "https://localhost:8080/"
        },
        "id": "o5KssTTAx5rg",
        "outputId": "0d5573d7-15b2-4251-a994-aa5c64d76cf8"
      },
      "execution_count": 17,
      "outputs": [
        {
          "output_type": "stream",
          "name": "stdout",
          "text": [
            "10\n"
          ]
        }
      ]
    },
    {
      "cell_type": "markdown",
      "source": [
        "3. Imprimir: 5"
      ],
      "metadata": {
        "id": "0U7-96UZyq1Q"
      }
    },
    {
      "cell_type": "code",
      "source": [
        "def a():\n",
        "    return 5\n",
        "    return 10\n",
        "print(a())"
      ],
      "metadata": {
        "colab": {
          "base_uri": "https://localhost:8080/"
        },
        "id": "grWh7S_Jx8Ee",
        "outputId": "dc248b87-0a61-4808-d729-4a1f9f812542"
      },
      "execution_count": 18,
      "outputs": [
        {
          "output_type": "stream",
          "name": "stdout",
          "text": [
            "5\n"
          ]
        }
      ]
    },
    {
      "cell_type": "markdown",
      "source": [
        "4. Imprimir: 5"
      ],
      "metadata": {
        "id": "k0vJY6Fjyu59"
      }
    },
    {
      "cell_type": "code",
      "source": [
        "def a():\n",
        "    return 5\n",
        "    print(10)\n",
        "print(a())"
      ],
      "metadata": {
        "colab": {
          "base_uri": "https://localhost:8080/"
        },
        "id": "VoCm_LGBx-Dt",
        "outputId": "363065bd-3ffd-469f-fc64-49bedb22d922"
      },
      "execution_count": 19,
      "outputs": [
        {
          "output_type": "stream",
          "name": "stdout",
          "text": [
            "5\n"
          ]
        }
      ]
    },
    {
      "cell_type": "markdown",
      "source": [
        "5. Imprimir: 5 y None"
      ],
      "metadata": {
        "id": "hWawVxiYy1Sk"
      }
    },
    {
      "cell_type": "code",
      "source": [
        "def a():\n",
        "    print(5)\n",
        "x = a()\n",
        "print(x)"
      ],
      "metadata": {
        "colab": {
          "base_uri": "https://localhost:8080/"
        },
        "id": "98id7EJSyBYh",
        "outputId": "09ba7367-7233-4ebb-abfa-01934027810b"
      },
      "execution_count": 20,
      "outputs": [
        {
          "output_type": "stream",
          "name": "stdout",
          "text": [
            "5\n",
            "None\n"
          ]
        }
      ]
    },
    {
      "cell_type": "markdown",
      "source": [
        "6. Imprimir: 3, 5 y 3"
      ],
      "metadata": {
        "id": "2Hfx1hds0Bvf"
      }
    },
    {
      "cell_type": "code",
      "source": [
        "def a(b,c):\n",
        "    print(b+c)\n",
        "    return b\n",
        "    return c\n",
        "print(a(1,2) + a(2,3))"
      ],
      "metadata": {
        "colab": {
          "base_uri": "https://localhost:8080/"
        },
        "id": "hBn-Kv6EyDSc",
        "outputId": "014a17f5-b6de-44e2-d8a9-10d3fc8329d9"
      },
      "execution_count": 37,
      "outputs": [
        {
          "output_type": "stream",
          "name": "stdout",
          "text": [
            "3\n",
            "5\n",
            "3\n"
          ]
        }
      ]
    },
    {
      "cell_type": "markdown",
      "source": [
        "7. Imprimir: 25"
      ],
      "metadata": {
        "id": "JSiFk4OVy6-P"
      }
    },
    {
      "cell_type": "code",
      "source": [
        "def a(b,c):\n",
        "    return str(b)+str(c)\n",
        "print(a(2,5))"
      ],
      "metadata": {
        "colab": {
          "base_uri": "https://localhost:8080/"
        },
        "id": "J4n5XhJJyFMk",
        "outputId": "c6d87738-ce75-478e-f729-b85cb76f7023"
      },
      "execution_count": 21,
      "outputs": [
        {
          "output_type": "stream",
          "name": "stdout",
          "text": [
            "25\n"
          ]
        }
      ]
    },
    {
      "cell_type": "markdown",
      "source": [
        "8. Imprimir: 100 y 10"
      ],
      "metadata": {
        "id": "V_4KjoYF0FTp"
      }
    },
    {
      "cell_type": "code",
      "source": [
        "def a():\n",
        "    b = 100\n",
        "    print(b)\n",
        "    if b < 10:\n",
        "        return 5\n",
        "    else:\n",
        "        return 10\n",
        "    return 7\n",
        "print(a())"
      ],
      "metadata": {
        "colab": {
          "base_uri": "https://localhost:8080/"
        },
        "id": "8-sy0tYgyGuX",
        "outputId": "334832d8-253b-4096-adbf-f27e92fa31c9"
      },
      "execution_count": 33,
      "outputs": [
        {
          "output_type": "stream",
          "name": "stdout",
          "text": [
            "100\n",
            "10\n"
          ]
        }
      ]
    },
    {
      "cell_type": "markdown",
      "source": [
        "9. Imprimir: 7, 14 y 21"
      ],
      "metadata": {
        "id": "e5pDaJ9hzCAV"
      }
    },
    {
      "cell_type": "code",
      "source": [
        "def a(b,c):\n",
        "    if b<c:\n",
        "        return 7\n",
        "    else:\n",
        "        return 14\n",
        "    return 3\n",
        "print(a(2,3))\n",
        "print(a(5,3))\n",
        "print(a(2,3) + a(5,3))"
      ],
      "metadata": {
        "colab": {
          "base_uri": "https://localhost:8080/"
        },
        "id": "gfzDfLkjyIUs",
        "outputId": "d266926f-3bc8-4002-ee05-2930f6324752"
      },
      "execution_count": 22,
      "outputs": [
        {
          "output_type": "stream",
          "name": "stdout",
          "text": [
            "7\n",
            "14\n",
            "21\n"
          ]
        }
      ]
    },
    {
      "cell_type": "markdown",
      "source": [
        "10. Imprimir: 8"
      ],
      "metadata": {
        "id": "I2lrQg4ezL-c"
      }
    },
    {
      "cell_type": "code",
      "source": [
        "def a(b,c):\n",
        "    return b+c\n",
        "    return 10\n",
        "print(a(3,5))"
      ],
      "metadata": {
        "colab": {
          "base_uri": "https://localhost:8080/"
        },
        "id": "5HA0F9ioyKK9",
        "outputId": "a7c704e8-5d9d-4837-8c45-8a46aa26e555"
      },
      "execution_count": 23,
      "outputs": [
        {
          "output_type": "stream",
          "name": "stdout",
          "text": [
            "8\n"
          ]
        }
      ]
    },
    {
      "cell_type": "markdown",
      "source": [
        "11. Imprimir: 500, 500, 300 y 500"
      ],
      "metadata": {
        "id": "7kXzEThSzQsG"
      }
    },
    {
      "cell_type": "code",
      "source": [
        "b = 500\n",
        "print(b)\n",
        "def a():\n",
        "    b = 300\n",
        "    print(b)\n",
        "print(b)\n",
        "a()\n",
        "print(b)"
      ],
      "metadata": {
        "colab": {
          "base_uri": "https://localhost:8080/"
        },
        "id": "3wZIQ5EfyLwL",
        "outputId": "7fd87f92-8ac6-4760-e935-3dd93daf1c7f"
      },
      "execution_count": 24,
      "outputs": [
        {
          "output_type": "stream",
          "name": "stdout",
          "text": [
            "500\n",
            "500\n",
            "300\n",
            "500\n"
          ]
        }
      ]
    },
    {
      "cell_type": "markdown",
      "source": [
        "12. Imprimir: 500, 500, 300 y 500"
      ],
      "metadata": {
        "id": "cdN4Kbo6zYAu"
      }
    },
    {
      "cell_type": "code",
      "source": [
        "b = 500\n",
        "print(b)\n",
        "def a():\n",
        "    b = 300\n",
        "    print(b)\n",
        "    return b\n",
        "print(b)\n",
        "a()\n",
        "print(b)"
      ],
      "metadata": {
        "colab": {
          "base_uri": "https://localhost:8080/"
        },
        "id": "pvk9YL14yOYT",
        "outputId": "1b2798d2-02b6-42ed-c4a5-e070221e239d"
      },
      "execution_count": 25,
      "outputs": [
        {
          "output_type": "stream",
          "name": "stdout",
          "text": [
            "500\n",
            "500\n",
            "300\n",
            "500\n"
          ]
        }
      ]
    },
    {
      "cell_type": "markdown",
      "source": [
        "13. Imprimir: 500, 500, 300 y 300"
      ],
      "metadata": {
        "id": "mH98QQ5ezhXQ"
      }
    },
    {
      "cell_type": "code",
      "source": [
        "b = 500\n",
        "print(b)\n",
        "def a():\n",
        "    b = 300\n",
        "    print(b)\n",
        "    return b\n",
        "print(b)\n",
        "b=a()\n",
        "print(b)"
      ],
      "metadata": {
        "colab": {
          "base_uri": "https://localhost:8080/"
        },
        "id": "jm1mTmuuyQ0r",
        "outputId": "510d8b5e-15d8-4160-9aee-4efd2dab055a"
      },
      "execution_count": 26,
      "outputs": [
        {
          "output_type": "stream",
          "name": "stdout",
          "text": [
            "500\n",
            "500\n",
            "300\n",
            "300\n"
          ]
        }
      ]
    },
    {
      "cell_type": "markdown",
      "source": [
        "14. Imprimir: 1, 3 y 2"
      ],
      "metadata": {
        "id": "sD1wujkJzqCg"
      }
    },
    {
      "cell_type": "code",
      "source": [
        "def a():\n",
        "    print(1)\n",
        "    b()\n",
        "    print(2)\n",
        "def b():\n",
        "    print(3)\n",
        "a()"
      ],
      "metadata": {
        "colab": {
          "base_uri": "https://localhost:8080/"
        },
        "id": "H0g4VFSnySQZ",
        "outputId": "c453d30c-1e1f-4f50-ccdb-d61a5146e265"
      },
      "execution_count": 27,
      "outputs": [
        {
          "output_type": "stream",
          "name": "stdout",
          "text": [
            "1\n",
            "3\n",
            "2\n"
          ]
        }
      ]
    },
    {
      "cell_type": "markdown",
      "source": [
        "15. Imprimir: 1, 3, 5 y 10"
      ],
      "metadata": {
        "id": "1hFLPfV3z0gj"
      }
    },
    {
      "cell_type": "code",
      "source": [
        "def a():\n",
        "    print(1)\n",
        "    x = b()\n",
        "    print(x)\n",
        "    return 10\n",
        "def b():\n",
        "    print(3)\n",
        "    return 5\n",
        "y = a()\n",
        "print(y)"
      ],
      "metadata": {
        "colab": {
          "base_uri": "https://localhost:8080/"
        },
        "id": "B6rVlpR-yT1-",
        "outputId": "3f766186-02da-4323-cb82-acf486f14206"
      },
      "execution_count": 28,
      "outputs": [
        {
          "output_type": "stream",
          "name": "stdout",
          "text": [
            "1\n",
            "3\n",
            "5\n",
            "10\n"
          ]
        }
      ]
    }
  ]
}