{
  "nbformat": 4,
  "nbformat_minor": 0,
  "metadata": {
    "colab": {
      "name": "Functions_2",
      "provenance": [],
      "authorship_tag": "ABX9TyNRs6Y5LDk8aBzTAu4XX74G",
      "include_colab_link": true
    },
    "kernelspec": {
      "name": "python3",
      "display_name": "Python 3"
    },
    "language_info": {
      "name": "python"
    }
  },
  "cells": [
    {
      "cell_type": "markdown",
      "metadata": {
        "id": "view-in-github",
        "colab_type": "text"
      },
      "source": [
        "<a href=\"https://colab.research.google.com/github/Nico-GP/Coding-Dojo_Pre-Bootcamp/blob/main/Functions_2.ipynb\" target=\"_parent\"><img src=\"https://colab.research.google.com/assets/colab-badge.svg\" alt=\"Open In Colab\"/></a>"
      ]
    },
    {
      "cell_type": "markdown",
      "source": [
        "# **CODING DOJO**: Pre-Bootcamp\n",
        "## Creado por: Nicolas Gonzalez\n",
        "### Descripcion: Funciones 2\n",
        "* Creado: 04/12/21\n",
        "* Ultima Actualizacion: 04/12/21"
      ],
      "metadata": {
        "id": "ef7UpcCnsw48"
      }
    },
    {
      "cell_type": "markdown",
      "source": [
        "1. **Cuenta regresiva** - Crea una función que acepte un número como entrada. Devuelve una lista nueva que cuenta de uno en uno, desde el número (como elemento 0) hasta 0 (como último elemento)"
      ],
      "metadata": {
        "id": "5J1WnLLi2jwB"
      }
    },
    {
      "cell_type": "code",
      "source": [
        "def countdown(x=int(input(\"Enter Number: \"))):\n",
        "    while x >= 0:\n",
        "        print(x)\n",
        "        x = x - 1\n",
        "countdown()"
      ],
      "metadata": {
        "colab": {
          "base_uri": "https://localhost:8080/"
        },
        "id": "cHN1Ex9P3W8y",
        "outputId": "bf9d1a38-b12a-4168-c224-d37c1ddc7138"
      },
      "execution_count": 1,
      "outputs": [
        {
          "output_type": "stream",
          "name": "stdout",
          "text": [
            "Enter Number: 12\n",
            "12\n",
            "11\n",
            "10\n",
            "9\n",
            "8\n",
            "7\n",
            "6\n",
            "5\n",
            "4\n",
            "3\n",
            "2\n",
            "1\n",
            "0\n"
          ]
        }
      ]
    },
    {
      "cell_type": "markdown",
      "source": [
        "2. **Imprime y retorna** -  Crea una función que reciba una lista con dos números. Imprime el primer valor y devuelve el segundo."
      ],
      "metadata": {
        "id": "I3rU_gZh2wLZ"
      }
    },
    {
      "cell_type": "code",
      "source": [
        "def print_and_return(a,b):\n",
        "    print(a)\n",
        "    return(b)\n",
        "print_and_return(a=int(input(\"Enter Number 1: \")),b=int(input(\"Enter Number 2: \")))"
      ],
      "metadata": {
        "colab": {
          "base_uri": "https://localhost:8080/"
        },
        "id": "1mnXkF4m3fdQ",
        "outputId": "f243062f-a643-4909-b0ed-6fae1622b6d5"
      },
      "execution_count": 2,
      "outputs": [
        {
          "output_type": "stream",
          "name": "stdout",
          "text": [
            "Enter Number 1: 5\n",
            "Enter Number 2: 9\n",
            "5\n"
          ]
        },
        {
          "output_type": "execute_result",
          "data": {
            "text/plain": [
              "9"
            ]
          },
          "metadata": {},
          "execution_count": 2
        }
      ]
    },
    {
      "cell_type": "markdown",
      "source": [
        "3. **Primero más longitud** - Crea una función que acepte una lista y devuelva la suma del primer valor de la lista, más la longitud de la lista"
      ],
      "metadata": {
        "id": "K3TOAzI223mS"
      }
    },
    {
      "cell_type": "code",
      "source": [
        "def first_plus_length(list):\n",
        "    print(list[0] + len(list))\n",
        "    return len(list)\n",
        "print(first_plus_length([55,46,2]))"
      ],
      "metadata": {
        "colab": {
          "base_uri": "https://localhost:8080/"
        },
        "id": "gzjRj2S93103",
        "outputId": "d08a8f28-354e-4fac-fc42-059d92c8fe16"
      },
      "execution_count": 23,
      "outputs": [
        {
          "output_type": "stream",
          "name": "stdout",
          "text": [
            "58\n",
            "3\n"
          ]
        }
      ]
    },
    {
      "cell_type": "markdown",
      "source": [
        "4. **Esta longitud, ese valor** - Escribe una función que acepte dos enteros como parámetros: tamaño y valor. La función debe crear y devolver una lista cuya longitud sea igual al tamaño dado, y cuyos valores sean, todos, el valor dado"
      ],
      "metadata": {
        "id": "Ba-nxCur28AD"
      }
    },
    {
      "cell_type": "code",
      "source": [
        "def length_and_value(size,value):\n",
        "    list=[]\n",
        "    for x in range(size):\n",
        "        list.append(value)\n",
        "    return list\n",
        "print(length_and_value(size=int(input(\"Enter Size: \")),value=int(input(\"Enter Value: \"))))"
      ],
      "metadata": {
        "colab": {
          "base_uri": "https://localhost:8080/"
        },
        "id": "2KSs6wZR3phk",
        "outputId": "1b1d2f74-143b-46a5-fa9a-f7f034dc6fba"
      },
      "execution_count": 3,
      "outputs": [
        {
          "output_type": "stream",
          "name": "stdout",
          "text": [
            "Enter Size: 7\n",
            "Enter Value: 2\n",
            "[2, 2, 2, 2, 2, 2, 2]\n"
          ]
        }
      ]
    },
    {
      "cell_type": "markdown",
      "source": [
        "5. **Valores mayores que el segundo** - Escribe una función que acepte una lista y cree una nueva que contenga solo los valores de la lista original que sean mayores que su segundo valor. Imprime cuántos valores son y luego devuelve la lista nueva. Si la lista tiene menos de 2 elementos, has que la función devuelva False"
      ],
      "metadata": {
        "id": "8hZhhrdv3OGY"
      }
    },
    {
      "cell_type": "code",
      "source": [
        "def length_and_value(size,value):\n",
        "    newList = []\n",
        "    for i in range(size):\n",
        "        newList.append(value)\n",
        "    return newList\n",
        "print(length_and_value(size=int(input(\"Enter Size: \")),value=int(input(\"Enter Value: \"))))"
      ],
      "metadata": {
        "colab": {
          "base_uri": "https://localhost:8080/"
        },
        "id": "qo_UButD5aTu",
        "outputId": "f41c47a3-81d1-4cbd-9136-492c6cd2204c"
      },
      "execution_count": 10,
      "outputs": [
        {
          "output_type": "stream",
          "name": "stdout",
          "text": [
            "Enter Size: 3\n",
            "Enter Value: 8\n",
            "[8, 8, 8]\n"
          ]
        }
      ]
    }
  ]
}