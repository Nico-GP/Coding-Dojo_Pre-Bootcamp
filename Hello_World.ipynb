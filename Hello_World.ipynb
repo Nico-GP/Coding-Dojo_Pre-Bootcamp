{
  "nbformat": 4,
  "nbformat_minor": 0,
  "metadata": {
    "colab": {
      "name": "Hello_World",
      "provenance": [],
      "authorship_tag": "ABX9TyORGOZyQIWSzmw2XjRFMEiO",
      "include_colab_link": true
    },
    "kernelspec": {
      "name": "python3",
      "display_name": "Python 3"
    },
    "language_info": {
      "name": "python"
    }
  },
  "cells": [
    {
      "cell_type": "markdown",
      "metadata": {
        "id": "view-in-github",
        "colab_type": "text"
      },
      "source": [
        "<a href=\"https://colab.research.google.com/github/Nico-GP/Coding-Dojo_Pre-Bootcamp/blob/main/Hello_World.ipynb\" target=\"_parent\"><img src=\"https://colab.research.google.com/assets/colab-badge.svg\" alt=\"Open In Colab\"/></a>"
      ]
    },
    {
      "cell_type": "markdown",
      "source": [
        "# **CODING DOJO**: Pre-Bootcamp\n",
        "## Creado por: Nicolas Gonzalez\n",
        "### Descripcion: Hola Mundo\n",
        "* Creado: 01/12/21\n",
        "* Ultima Actualizacion: 01/12/21"
      ],
      "metadata": {
        "id": "ef7UpcCnsw48"
      }
    },
    {
      "cell_type": "markdown",
      "source": [
        "1. print \"Hola, mundo\""
      ],
      "metadata": {
        "id": "PRprEecCuobr"
      }
    },
    {
      "cell_type": "code",
      "source": [
        "print( \"Hola, mundo\" )"
      ],
      "metadata": {
        "colab": {
          "base_uri": "https://localhost:8080/"
        },
        "id": "jZJummKcu8dt",
        "outputId": "21477724-1ac4-4b2c-a5b6-63eb29194d2d"
      },
      "execution_count": 2,
      "outputs": [
        {
          "output_type": "stream",
          "name": "stdout",
          "text": [
            "Hola, mundo\n"
          ]
        }
      ]
    },
    {
      "cell_type": "markdown",
      "source": [
        "2. print \"Hola Noelle!\" con el nombre de una variable"
      ],
      "metadata": {
        "id": "xzLXMwYouui6"
      }
    },
    {
      "cell_type": "code",
      "source": [
        "name = \"Nicolas\"\n",
        "print( \"Hola\", name )\t# con una coma\n",
        "print( \"Hola \" + name )\t# con un +"
      ],
      "metadata": {
        "colab": {
          "base_uri": "https://localhost:8080/"
        },
        "id": "yGFvENCGu_Ym",
        "outputId": "ced113e7-5947-4276-c248-fe2d071090ea"
      },
      "execution_count": 3,
      "outputs": [
        {
          "output_type": "stream",
          "name": "stdout",
          "text": [
            "Hola Nicolas\n",
            "Hola Nicolas\n"
          ]
        }
      ]
    },
    {
      "cell_type": "markdown",
      "source": [
        "3. print \"Hola 42!\" con el número en una variable"
      ],
      "metadata": {
        "id": "bMBX9e_5uzkd"
      }
    },
    {
      "cell_type": "code",
      "source": [
        "num = 13\n",
        "print( \"Hola\", num )\t# con una coma\n",
        "print( \"Hola\", num )\t# con un + (esta nos deberÃ­a arrojar un error)"
      ],
      "metadata": {
        "colab": {
          "base_uri": "https://localhost:8080/"
        },
        "id": "uuo2yVEtvCkC",
        "outputId": "ce596955-ce44-4bf1-e206-ace94e07db62"
      },
      "execution_count": 4,
      "outputs": [
        {
          "output_type": "stream",
          "name": "stdout",
          "text": [
            "Hola 13\n",
            "Hola 13\n"
          ]
        }
      ]
    },
    {
      "cell_type": "markdown",
      "source": [
        "4. print \"Amo comer sushi y pizza.\" con las comidas en variables"
      ],
      "metadata": {
        "id": "rim8OYh7vOTP"
      }
    },
    {
      "cell_type": "code",
      "source": [
        "fave_food1 = \"sushi\"\n",
        "fave_food2 = \"ramen\"\n",
        "print( \"Amo comer {} y {}.\" .format(fave_food1, fave_food2) ) # con .format()\n",
        "print(f\"Amo comer {fave_food1} y {fave_food2}.\" ) # con f string"
      ],
      "metadata": {
        "colab": {
          "base_uri": "https://localhost:8080/"
        },
        "id": "MSyXj_tqucYd",
        "outputId": "cf2f40c9-6d8a-4bf2-add7-f2e331829f80"
      },
      "execution_count": 5,
      "outputs": [
        {
          "output_type": "stream",
          "name": "stdout",
          "text": [
            "Amo comer sushi y ramen.\n",
            "Amo comer sushi y ramen.\n"
          ]
        }
      ]
    }
  ]
}